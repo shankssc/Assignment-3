{
  "nbformat": 4,
  "nbformat_minor": 0,
  "metadata": {
    "colab": {
      "name": "Untitled10.ipynb",
      "provenance": [],
      "collapsed_sections": [],
      "include_colab_link": true
    },
    "kernelspec": {
      "name": "python3",
      "display_name": "Python 3"
    },
    "accelerator": "GPU"
  },
  "cells": [
    {
      "cell_type": "markdown",
      "metadata": {
        "id": "view-in-github",
        "colab_type": "text"
      },
      "source": [
        "<a href=\"https://colab.research.google.com/github/shankssc/Assignment-3/blob/master/Untitled10.ipynb\" target=\"_parent\"><img src=\"https://colab.research.google.com/assets/colab-badge.svg\" alt=\"Open In Colab\"/></a>"
      ]
    },
    {
      "cell_type": "code",
      "metadata": {
        "id": "0fMZ-zvHRRO5",
        "colab_type": "code",
        "outputId": "ef47c25e-3d8b-4454-8140-90c27328c16b",
        "colab": {
          "base_uri": "https://localhost:8080/",
          "height": 34
        }
      },
      "source": [
        "from google.colab import drive\n",
        "drive.mount('/content/drive')"
      ],
      "execution_count": 0,
      "outputs": [
        {
          "output_type": "stream",
          "text": [
            "Drive already mounted at /content/drive; to attempt to forcibly remount, call drive.mount(\"/content/drive\", force_remount=True).\n"
          ],
          "name": "stdout"
        }
      ]
    },
    {
      "cell_type": "code",
      "metadata": {
        "id": "ySQtQfLeRdMI",
        "colab_type": "code",
        "colab": {}
      },
      "source": [
        "!pip install flask-ngrok\n",
        "!sudo apt install tesseract-ocr\n",
        "!pip install pytesseract\n",
        "!pip install datefinder\n"
      ],
      "execution_count": 0,
      "outputs": []
    },
    {
      "cell_type": "code",
      "metadata": {
        "id": "dQuVN6TnR8w3",
        "colab_type": "code",
        "colab": {}
      },
      "source": [
        "from PIL import Image\n",
        "from PIL import ImageFilter\n",
        "import flask\n",
        "from flask_ngrok import run_with_ngrok\n",
        "from flask import Flask\n",
        "import os\n",
        "import requests\n",
        "\n",
        "try:\n",
        "    from StringIO import StringIO\n",
        "except ImportError:\n",
        "    from io import StringIO\n",
        "\n",
        "try:\n",
        "    from PIL import Image\n",
        "except ImportError:\n",
        "    import Image\n",
        "import pytesseract"
      ],
      "execution_count": 0,
      "outputs": []
    },
    {
      "cell_type": "code",
      "metadata": {
        "id": "pmKbh7XUST3Z",
        "colab_type": "code",
        "colab": {}
      },
      "source": [
        "os.chdir('/content/drive/My Drive/Receipts')"
      ],
      "execution_count": 0,
      "outputs": []
    },
    {
      "cell_type": "code",
      "metadata": {
        "id": "G4KLAkmdSeY8",
        "colab_type": "code",
        "colab": {}
      },
      "source": [
        "import re, datetime\n",
        "from datetime import datetime"
      ],
      "execution_count": 0,
      "outputs": []
    },
    {
      "cell_type": "code",
      "metadata": {
        "id": "OeUoMuFwSn9a",
        "colab_type": "code",
        "colab": {}
      },
      "source": [
        "image = Image.open('0efaa622.jpeg')\n",
        "image.filter(ImageFilter.SHARPEN)\n",
        "stro = pytesseract.image_to_string(image)"
      ],
      "execution_count": 0,
      "outputs": []
    },
    {
      "cell_type": "code",
      "metadata": {
        "id": "b-pmzu5fSufI",
        "colab_type": "code",
        "outputId": "e4403226-1b43-4275-e36a-370bff983321",
        "colab": {
          "base_uri": "https://localhost:8080/",
          "height": 493
        }
      },
      "source": [
        "print(stro)"
      ],
      "execution_count": 0,
      "outputs": [
        {
          "output_type": "stream",
          "text": [
            "(oie TS RCT a Travels’\n",
            "\n",
            "Sua at eC ene\n",
            "\n",
            "  \n",
            "\n",
            "*Now Book Your Ticket From wwnw.pttbus.in\n",
            "TripName JAMNAGAR TO RAJKOT - 2 X 2 (48) VOLVO\n",
            "\n",
            " \n",
            "\n",
            " \n",
            "\n",
            "Name :DIPESH THAKKAR - 9879209301 Booking Date : 30-04-2019\n",
            "PNR NO: 92720795 >) Ticket No.: 6645-GURUJMR (103)\n",
            "‘Seat No. : 23 | ‘Sip. No. : :\n",
            "Total Seat: 1 Total Sleeper: 0 OrigAmt.: 0 Disc. : s\n",
            "Total Seat Amt. 130 Total Sip. Amt. = Total Amt. : 130\n",
            "IGST:0.00  CGST: 3.10 SGST: 340 GST No.: 24aapcpg06smizv\n",
            "Journey Date: 30-04-2019 TUESDAY Journey Time: 5:30 PM\n",
            "\n",
            "EW Reporting Time 5:15 PM Bus No. : GJ-1-BV-0288 }\n",
            "\n",
            "    \n",
            "\n",
            "PickUp : CARGO HAPA (HIGHWAY) oa as semaena tint Date\n",
            "\n",
            "E-Mail : patelinn@yahoo.com ERAccheeeeembmeenet\n"
          ],
          "name": "stdout"
        }
      ]
    },
    {
      "cell_type": "code",
      "metadata": {
        "id": "BSWDLiBZSwsb",
        "colab_type": "code",
        "outputId": "391e2c49-e345-46aa-d1c2-350756b13883",
        "colab": {
          "base_uri": "https://localhost:8080/",
          "height": 34
        }
      },
      "source": [
        "from datetime import datetime\n",
        "\n",
        "match = re.search('\\d{2,4}-\\d{2,4}-\\d{2,4}', stro)\n",
        "date = datetime.strptime(match.group(), '%d-%m-%Y').date()\n",
        "print(date)"
      ],
      "execution_count": 0,
      "outputs": [
        {
          "output_type": "stream",
          "text": [
            "2019-04-30\n"
          ],
          "name": "stdout"
        }
      ]
    },
    {
      "cell_type": "code",
      "metadata": {
        "id": "anBXW2LGTDl8",
        "colab_type": "code",
        "colab": {}
      },
      "source": [
        "def process_image(url):\n",
        "    image = _get_image(url)\n",
        "    image.filter(ImageFilter.SHARPEN)\n",
        "    return pytesseract.image_to_string(image)\n",
        "\n",
        "\n",
        "\n",
        "\n",
        "def _get_image(url):\n",
        "    return Image.open(StringIO(requests.get(url).content))\n",
        "\n",
        "def get_date(url):\n",
        "    sms = process_image(url)\n",
        "    match = re.search('\\d{2,4}-\\d{2,4}-\\d{2,4}', stro)\n",
        "    date = datetime.strptime(match.group(), '%d-%m-%Y').date()\n",
        "    return date"
      ],
      "execution_count": 0,
      "outputs": []
    },
    {
      "cell_type": "code",
      "metadata": {
        "id": "xlevBhK7oksF",
        "colab_type": "code",
        "colab": {}
      },
      "source": [
        "def process_image1(url):\n",
        "    image = _get_image1(url)\n",
        "    image.filter(ImageFilter.SHARPEN)\n",
        "    return pytesseract.image_to_string(image)\n",
        "\n",
        "\n",
        "\n",
        "\n",
        "def _get_image1(url):\n",
        "    return Image.open(url)\n",
        "\n",
        "def get_date1(url):\n",
        "    sms = process_image1(url)\n",
        "    match = re.search('\\d{2,4}-\\d{2,4}-\\d{2,4}', stro)\n",
        "    date = datetime.strptime(match.group(), '%d-%m-%Y').date()\n",
        "    return date"
      ],
      "execution_count": 0,
      "outputs": []
    },
    {
      "cell_type": "code",
      "metadata": {
        "id": "opZl-pPjm5jc",
        "colab_type": "code",
        "colab": {}
      },
      "source": [
        "from time import sleep"
      ],
      "execution_count": 0,
      "outputs": []
    },
    {
      "cell_type": "code",
      "metadata": {
        "id": "dzBa_YjXhVTW",
        "colab_type": "code",
        "outputId": "f6934c5a-54b9-4392-d193-f28a8930c38c",
        "colab": {
          "base_uri": "https://localhost:8080/",
          "height": 307
        }
      },
      "source": [
        "process_image('https://drive.google.com/drive/my-drive/Receipts/0efaa622.jpeg')"
      ],
      "execution_count": 0,
      "outputs": [
        {
          "output_type": "error",
          "ename": "TypeError",
          "evalue": "ignored",
          "traceback": [
            "\u001b[0;31m---------------------------------------------------------------------------\u001b[0m",
            "\u001b[0;31mTypeError\u001b[0m                                 Traceback (most recent call last)",
            "\u001b[0;32m<ipython-input-25-33cd3af47c79>\u001b[0m in \u001b[0;36m<module>\u001b[0;34m()\u001b[0m\n\u001b[0;32m----> 1\u001b[0;31m \u001b[0mprocess_image\u001b[0m\u001b[0;34m(\u001b[0m\u001b[0;34m'https://drive.google.com/drive/my-drive/Receipts/0efaa622.jpeg'\u001b[0m\u001b[0;34m)\u001b[0m\u001b[0;34m\u001b[0m\u001b[0;34m\u001b[0m\u001b[0m\n\u001b[0m",
            "\u001b[0;32m<ipython-input-7-49ec1adf94e8>\u001b[0m in \u001b[0;36mprocess_image\u001b[0;34m(url)\u001b[0m\n\u001b[1;32m      1\u001b[0m \u001b[0;32mdef\u001b[0m \u001b[0mprocess_image\u001b[0m\u001b[0;34m(\u001b[0m\u001b[0murl\u001b[0m\u001b[0;34m)\u001b[0m\u001b[0;34m:\u001b[0m\u001b[0;34m\u001b[0m\u001b[0;34m\u001b[0m\u001b[0m\n\u001b[0;32m----> 2\u001b[0;31m     \u001b[0mimage\u001b[0m \u001b[0;34m=\u001b[0m \u001b[0m_get_image\u001b[0m\u001b[0;34m(\u001b[0m\u001b[0murl\u001b[0m\u001b[0;34m)\u001b[0m\u001b[0;34m\u001b[0m\u001b[0;34m\u001b[0m\u001b[0m\n\u001b[0m\u001b[1;32m      3\u001b[0m     \u001b[0mimage\u001b[0m\u001b[0;34m.\u001b[0m\u001b[0mfilter\u001b[0m\u001b[0;34m(\u001b[0m\u001b[0mImageFilter\u001b[0m\u001b[0;34m.\u001b[0m\u001b[0mSHARPEN\u001b[0m\u001b[0;34m)\u001b[0m\u001b[0;34m\u001b[0m\u001b[0;34m\u001b[0m\u001b[0m\n\u001b[1;32m      4\u001b[0m     \u001b[0;32mreturn\u001b[0m \u001b[0mpytesseract\u001b[0m\u001b[0;34m.\u001b[0m\u001b[0mimage_to_string\u001b[0m\u001b[0;34m(\u001b[0m\u001b[0mimage\u001b[0m\u001b[0;34m)\u001b[0m\u001b[0;34m\u001b[0m\u001b[0;34m\u001b[0m\u001b[0m\n\u001b[1;32m      5\u001b[0m \u001b[0;34m\u001b[0m\u001b[0m\n",
            "\u001b[0;32m<ipython-input-7-49ec1adf94e8>\u001b[0m in \u001b[0;36m_get_image\u001b[0;34m(url)\u001b[0m\n\u001b[1;32m      8\u001b[0m \u001b[0;34m\u001b[0m\u001b[0m\n\u001b[1;32m      9\u001b[0m \u001b[0;32mdef\u001b[0m \u001b[0m_get_image\u001b[0m\u001b[0;34m(\u001b[0m\u001b[0murl\u001b[0m\u001b[0;34m)\u001b[0m\u001b[0;34m:\u001b[0m\u001b[0;34m\u001b[0m\u001b[0;34m\u001b[0m\u001b[0m\n\u001b[0;32m---> 10\u001b[0;31m     \u001b[0;32mreturn\u001b[0m \u001b[0mImage\u001b[0m\u001b[0;34m.\u001b[0m\u001b[0mopen\u001b[0m\u001b[0;34m(\u001b[0m\u001b[0mStringIO\u001b[0m\u001b[0;34m(\u001b[0m\u001b[0mrequests\u001b[0m\u001b[0;34m.\u001b[0m\u001b[0mget\u001b[0m\u001b[0;34m(\u001b[0m\u001b[0murl\u001b[0m\u001b[0;34m)\u001b[0m\u001b[0;34m.\u001b[0m\u001b[0mcontent\u001b[0m\u001b[0;34m)\u001b[0m\u001b[0;34m)\u001b[0m\u001b[0;34m\u001b[0m\u001b[0;34m\u001b[0m\u001b[0m\n\u001b[0m\u001b[1;32m     11\u001b[0m \u001b[0;34m\u001b[0m\u001b[0m\n\u001b[1;32m     12\u001b[0m \u001b[0;32mdef\u001b[0m \u001b[0mget_date\u001b[0m\u001b[0;34m(\u001b[0m\u001b[0murl\u001b[0m\u001b[0;34m)\u001b[0m\u001b[0;34m:\u001b[0m\u001b[0;34m\u001b[0m\u001b[0;34m\u001b[0m\u001b[0m\n",
            "\u001b[0;31mTypeError\u001b[0m: initial_value must be str or None, not bytes"
          ]
        }
      ]
    },
    {
      "cell_type": "code",
      "metadata": {
        "id": "5-Cr7V9vb_wa",
        "colab_type": "code",
        "colab": {}
      },
      "source": [
        "import socket\n",
        "import threading"
      ],
      "execution_count": 0,
      "outputs": []
    },
    {
      "cell_type": "code",
      "metadata": {
        "id": "f-4KWC_MUpya",
        "colab_type": "code",
        "outputId": "bd50a991-8f0b-48bf-dae0-29c665b51dc9",
        "colab": {
          "base_uri": "https://localhost:8080/",
          "height": 187
        }
      },
      "source": [
        "from flask_ngrok import run_with_ngrok\n",
        "from flask import request, jsonify\n",
        "import logging\n",
        "from logging import Formatter, FileHandler\n",
        "app = Flask(__name__)\n",
        "run_with_ngrok(app)\n",
        "\n",
        "\n",
        "@app.route(\"/\", methods=[\"GET\",\"POST\"])\n",
        "def ocr():\n",
        "  try:\n",
        "    url = request.json[\"image_url\"]\n",
        "    if 'jpeg' in url:\n",
        "      output = process_image1(url)\n",
        "      output1 = get_date1(url)\n",
        "      return jsonify({\"base_64_image_content\": output})\n",
        "      return jsonify({\"DATE\": outpu1})\n",
        "    else:\n",
        "      return jsonify({\"error\": \"only .jpg files, please\"})\n",
        "  except:\n",
        "      return jsonify({\"error\": \"Did you mean to send: {'image_url': 'some_jpeg_url'}\"})\n",
        "\n",
        "app.run()"
      ],
      "execution_count": 0,
      "outputs": [
        {
          "output_type": "stream",
          "text": [
            " * Serving Flask app \"__main__\" (lazy loading)\n",
            " * Environment: production\n",
            "   WARNING: This is a development server. Do not use it in a production deployment.\n",
            "   Use a production WSGI server instead.\n",
            " * Debug mode: off\n"
          ],
          "name": "stdout"
        },
        {
          "output_type": "stream",
          "text": [
            " * Running on http://127.0.0.1:5000/ (Press CTRL+C to quit)\n"
          ],
          "name": "stderr"
        },
        {
          "output_type": "stream",
          "text": [
            " * Running on http://f83cce71.ngrok.io\n",
            " * Traffic stats available on http://127.0.0.1:4040\n"
          ],
          "name": "stdout"
        },
        {
          "output_type": "stream",
          "text": [
            "127.0.0.1 - - [21/Nov/2019 06:46:27] \"\u001b[37mGET / HTTP/1.1\u001b[0m\" 200 -\n",
            "127.0.0.1 - - [21/Nov/2019 06:46:28] \"\u001b[33mGET /favicon.ico HTTP/1.1\u001b[0m\" 404 -\n"
          ],
          "name": "stderr"
        }
      ]
    },
    {
      "cell_type": "code",
      "metadata": {
        "id": "bwqxmc6FVfNW",
        "colab_type": "code",
        "outputId": "416affe9-f17f-42dd-e2f5-b3b47081aa54",
        "colab": {
          "base_uri": "https://localhost:8080/",
          "height": 136
        }
      },
      "source": [
        "import socket\n",
        "import requests\n",
        "print(socket.gethostbyname(socket.getfqdn(socket.gethostname())))\n",
        "\n",
        "from flask import Flask\n",
        "app = Flask(__name__)\n",
        "\n",
        "@app.route(\"/\", methods=[\"GET\",\"POST\"])\n",
        "def ocr():\n",
        "  try:\n",
        "    url = request.json['image_url']\n",
        "    if 'jpeg' in url:\n",
        "      output = process_image(url)\n",
        "      output1 = get_date(url)\n",
        "      return jsonify({\"base_64_image_content\": output})\n",
        "      return jsonify({\"DATE\": outpu1})\n",
        "    else:\n",
        "      return jsonify({\"error\": \"only .jpg files, please\"})\n",
        "  except:\n",
        "      return jsonify({\"error\": \"Did you mean to send: {'image_url': 'some_jpeg_url'}\"})\n",
        "import threading\n",
        "threading.Thread(target=app.run, kwargs={'host':'0.0.0.0','port':80}).start() \n"
      ],
      "execution_count": 0,
      "outputs": [
        {
          "output_type": "stream",
          "text": [
            "172.28.0.2\n",
            " * Serving Flask app \"__main__\" (lazy loading)\n",
            " * Environment: production\n",
            "   WARNING: This is a development server. Do not use it in a production deployment.\n",
            "   Use a production WSGI server instead.\n",
            " * Debug mode: off\n"
          ],
          "name": "stdout"
        },
        {
          "output_type": "stream",
          "text": [
            " * Running on http://0.0.0.0:80/ (Press CTRL+C to quit)\n"
          ],
          "name": "stderr"
        }
      ]
    },
    {
      "cell_type": "code",
      "metadata": {
        "id": "PdYLUk3mXbrn",
        "colab_type": "code",
        "outputId": "aaf61f34-5ecf-4711-e19e-540ddfd13b00",
        "colab": {
          "base_uri": "https://localhost:8080/",
          "height": 119
        }
      },
      "source": [
        "import requests\n",
        "r = requests.get(\"http://172.28.0.2/\")\n",
        "print(r.status_code)\n",
        "print(r.encoding)\n",
        "print(r.apparent_encoding)\n",
        "print(r.text)"
      ],
      "execution_count": 0,
      "outputs": [
        {
          "output_type": "stream",
          "text": [
            "172.28.0.2 - - [21/Nov/2019 08:04:03] \"\u001b[37mGET / HTTP/1.1\u001b[0m\" 200 -\n"
          ],
          "name": "stderr"
        },
        {
          "output_type": "stream",
          "text": [
            "200\n",
            "None\n",
            "ascii\n",
            "{\"error\":\"Did you mean to send: {'image_url': 'some_jpeg_url'}\"}\n",
            "\n"
          ],
          "name": "stdout"
        }
      ]
    },
    {
      "cell_type": "code",
      "metadata": {
        "id": "WV6m-METcm9Y",
        "colab_type": "code",
        "colab": {}
      },
      "source": [
        ""
      ],
      "execution_count": 0,
      "outputs": []
    }
  ]
}